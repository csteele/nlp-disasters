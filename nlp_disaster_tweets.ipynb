{
  "nbformat": 4,
  "nbformat_minor": 0,
  "metadata": {
    "colab": {
      "name": "nlp_disaster_tweets.ipynb",
      "provenance": [],
      "collapsed_sections": [],
      "toc_visible": true,
      "include_colab_link": true
    },
    "kernelspec": {
      "name": "python3",
      "display_name": "Python 3"
    }
  },
  "cells": [
    {
      "cell_type": "markdown",
      "metadata": {
        "id": "view-in-github",
        "colab_type": "text"
      },
      "source": [
        "<a href=\"https://colab.research.google.com/github/csteele/nlp-disasters/blob/emma/nlp_disaster_tweets.ipynb\" target=\"_parent\"><img src=\"https://colab.research.google.com/assets/colab-badge.svg\" alt=\"Open In Colab\"/></a>"
      ]
    },
    {
      "cell_type": "markdown",
      "metadata": {
        "id": "u98cVRYRpJwn",
        "colab_type": "text"
      },
      "source": [
        "# Real or Not? NLP with Disaster Tweets\n",
        "Twitter has become an important communication channel in times of emergency.The ubiquitousness of smartphones enables people to announce an emergency they’re observing in real-time. Because of this, more agencies are interested in programatically monitoring Twitter (i.e. disaster relief organizations and news agencies).\n",
        "\n",
        "But, it’s not always clear whether a person’s words are actually announcing a disaster. In this competition you are given tweet data, some keywords and a location of the tweet and with this data the aim is to predict if the tweet is referencing a real disaster. \n",
        "\n",
        "*Link:* https://www.kaggle.com/c/nlp-getting-started\n",
        "\n"
      ]
    },
    {
      "cell_type": "markdown",
      "metadata": {
        "id": "Cpwe_52EstHh",
        "colab_type": "text"
      },
      "source": [
        "\n",
        "## What is this notebook?\n",
        "It is a colloborative environment to share your code and progress with the team. There are a variety of ways to contribute:\n",
        " \n",
        "1. Research NLP methods that we can try to include\n",
        "2. Visulise and exploratore the data analysis to find trends and useful features\n",
        "3. Build NLP models so that we can compare approaches and methods\n",
        "\n",
        "## How to get started?\n",
        "See this section for instructions on how to join kaggle and get your API key, how to version control, and how to use colabs.\n",
        "\n",
        "**Step (1)** - Go to Kaggle and download your API key. This will be used to download the Kaggle dataset and manipulate it within your Colab environment.\n",
        "![alt text](https://docs.google.com/uc?export=download&id=1gFbQABK3YlaHdI-u4hQ2emtuVtbQz_71)\n",
        "\n",
        "**Step (2)** - Sign up to GitHub ([here](https://github.com)). This will be used to version control and share your work with the team. \n",
        "\n",
        "There is a master branch (notebook) that has the teams changes.  However, as we make our individual changes we will do it under a branch in our own name - these changes will not be visible in the master notebook. You can save in your own branch and when you are ready you can merge/copy those changes to the master branch for everyone to see. "
      ]
    },
    {
      "cell_type": "markdown",
      "metadata": {
        "id": "mu94UWxa6hRV",
        "colab_type": "text"
      },
      "source": [
        "# Setup and Load Data  (Changed)\n",
        "In this section we will set up and load the data.  The below section allows you to upload your personal kaggle API file that you downloaded in Setup Step (1). "
      ]
    },
    {
      "cell_type": "code",
      "metadata": {
        "id": "TpPV-Jwvn_F8",
        "colab_type": "code",
        "outputId": "ebb912d0-3bb4-4a6d-f43c-b42423314cda",
        "colab": {
          "resources": {
            "http://localhost:8080/nbextensions/google.colab/files.js": {
              "data": "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",
              "ok": true,
              "headers": [
                [
                  "content-type",
                  "application/javascript"
                ]
              ],
              "status": 200,
              "status_text": ""
            }
          },
          "base_uri": "https://localhost:8080/",
          "height": 74
        }
      },
      "source": [
        "from google.colab import files\n",
        "files.upload() #upload kaggle api key\n",
        "!mkdir -p ~/.kaggle #create directory\n",
        "!cp kaggle.json ~/.kaggle/ #copy uploaded file to new directory"
      ],
      "execution_count": 1,
      "outputs": [
        {
          "output_type": "display_data",
          "data": {
            "text/html": [
              "\n",
              "     <input type=\"file\" id=\"files-8b69fc81-6a97-4feb-a7de-b4a82f0d2fbf\" name=\"files[]\" multiple disabled />\n",
              "     <output id=\"result-8b69fc81-6a97-4feb-a7de-b4a82f0d2fbf\">\n",
              "      Upload widget is only available when the cell has been executed in the\n",
              "      current browser session. Please rerun this cell to enable.\n",
              "      </output>\n",
              "      <script src=\"/nbextensions/google.colab/files.js\"></script> "
            ],
            "text/plain": [
              "<IPython.core.display.HTML object>"
            ]
          },
          "metadata": {
            "tags": []
          }
        },
        {
          "output_type": "stream",
          "text": [
            "Saving kaggle.json to kaggle.json\n"
          ],
          "name": "stdout"
        }
      ]
    },
    {
      "cell_type": "markdown",
      "metadata": {
        "id": "ZvIqyeXIWPCE",
        "colab_type": "text"
      },
      "source": [
        "Now that we have our API key ready to use the next step downloads the training data and displays it. "
      ]
    },
    {
      "cell_type": "code",
      "metadata": {
        "id": "rp_Lf61DsvBa",
        "colab_type": "code",
        "outputId": "28b9cea2-7edd-42fd-9b08-9542da317413",
        "colab": {
          "base_uri": "https://localhost:8080/",
          "height": 272
        }
      },
      "source": [
        "!kaggle competitions download -f train.csv --competition nlp-getting-started #download train.csv from compettition\n",
        "import pandas as pd\n",
        "train = pd.read_csv('train.csv')\n",
        "train.head(5)"
      ],
      "execution_count": 2,
      "outputs": [
        {
          "output_type": "stream",
          "text": [
            "Warning: Your Kaggle API key is readable by other users on this system! To fix this, you can run 'chmod 600 /root/.kaggle/kaggle.json'\n",
            "Downloading train.csv to /content\n",
            "  0% 0.00/965k [00:00<?, ?B/s]\n",
            "100% 965k/965k [00:00<00:00, 65.7MB/s]\n"
          ],
          "name": "stdout"
        },
        {
          "output_type": "execute_result",
          "data": {
            "text/html": [
              "<div>\n",
              "<style scoped>\n",
              "    .dataframe tbody tr th:only-of-type {\n",
              "        vertical-align: middle;\n",
              "    }\n",
              "\n",
              "    .dataframe tbody tr th {\n",
              "        vertical-align: top;\n",
              "    }\n",
              "\n",
              "    .dataframe thead th {\n",
              "        text-align: right;\n",
              "    }\n",
              "</style>\n",
              "<table border=\"1\" class=\"dataframe\">\n",
              "  <thead>\n",
              "    <tr style=\"text-align: right;\">\n",
              "      <th></th>\n",
              "      <th>id</th>\n",
              "      <th>keyword</th>\n",
              "      <th>location</th>\n",
              "      <th>text</th>\n",
              "      <th>target</th>\n",
              "    </tr>\n",
              "  </thead>\n",
              "  <tbody>\n",
              "    <tr>\n",
              "      <th>0</th>\n",
              "      <td>1</td>\n",
              "      <td>NaN</td>\n",
              "      <td>NaN</td>\n",
              "      <td>Our Deeds are the Reason of this #earthquake M...</td>\n",
              "      <td>1</td>\n",
              "    </tr>\n",
              "    <tr>\n",
              "      <th>1</th>\n",
              "      <td>4</td>\n",
              "      <td>NaN</td>\n",
              "      <td>NaN</td>\n",
              "      <td>Forest fire near La Ronge Sask. Canada</td>\n",
              "      <td>1</td>\n",
              "    </tr>\n",
              "    <tr>\n",
              "      <th>2</th>\n",
              "      <td>5</td>\n",
              "      <td>NaN</td>\n",
              "      <td>NaN</td>\n",
              "      <td>All residents asked to 'shelter in place' are ...</td>\n",
              "      <td>1</td>\n",
              "    </tr>\n",
              "    <tr>\n",
              "      <th>3</th>\n",
              "      <td>6</td>\n",
              "      <td>NaN</td>\n",
              "      <td>NaN</td>\n",
              "      <td>13,000 people receive #wildfires evacuation or...</td>\n",
              "      <td>1</td>\n",
              "    </tr>\n",
              "    <tr>\n",
              "      <th>4</th>\n",
              "      <td>7</td>\n",
              "      <td>NaN</td>\n",
              "      <td>NaN</td>\n",
              "      <td>Just got sent this photo from Ruby #Alaska as ...</td>\n",
              "      <td>1</td>\n",
              "    </tr>\n",
              "  </tbody>\n",
              "</table>\n",
              "</div>"
            ],
            "text/plain": [
              "   id keyword  ...                                               text target\n",
              "0   1     NaN  ...  Our Deeds are the Reason of this #earthquake M...      1\n",
              "1   4     NaN  ...             Forest fire near La Ronge Sask. Canada      1\n",
              "2   5     NaN  ...  All residents asked to 'shelter in place' are ...      1\n",
              "3   6     NaN  ...  13,000 people receive #wildfires evacuation or...      1\n",
              "4   7     NaN  ...  Just got sent this photo from Ruby #Alaska as ...      1\n",
              "\n",
              "[5 rows x 5 columns]"
            ]
          },
          "metadata": {
            "tags": []
          },
          "execution_count": 2
        }
      ]
    },
    {
      "cell_type": "markdown",
      "metadata": {
        "id": "lmJTvorDgZb4",
        "colab_type": "text"
      },
      "source": [
        "## Imports"
      ]
    },
    {
      "cell_type": "code",
      "metadata": {
        "id": "hdjNmATFgY3U",
        "colab_type": "code",
        "colab": {}
      },
      "source": [
        "import plotly.express as px ## used for interactive plots\n"
      ],
      "execution_count": 0,
      "outputs": []
    },
    {
      "cell_type": "markdown",
      "metadata": {
        "id": "sYsE3MWuWtOG",
        "colab_type": "text"
      },
      "source": [
        "#Exploratory Data Analysis\n",
        "In this section we can explore the data to answer questions that help us understand what the data contains and how it could be used to predict an actual disaster vs fake news / exagerations. "
      ]
    },
    {
      "cell_type": "markdown",
      "metadata": {
        "id": "1Dr3IGgWXYQp",
        "colab_type": "text"
      },
      "source": [
        "## Data Quality"
      ]
    },
    {
      "cell_type": "code",
      "metadata": {
        "id": "8aGomztxXZcv",
        "colab_type": "code",
        "outputId": "0bdddb7a-44a9-4f8d-bb56-5395dec1bb52",
        "colab": {
          "base_uri": "https://localhost:8080/",
          "height": 34
        }
      },
      "source": [
        "train_n = train.shape[0]\n",
        "train_rate=train['target'].mean()\n",
        "string = 'The training data contains {} samples with {}% tweets about real disasters.'\n",
        "print(string.format(train_n,round(train_rate*100,2)))\n"
      ],
      "execution_count": 3,
      "outputs": [
        {
          "output_type": "stream",
          "text": [
            "The training data contains 7613 samples with 42.97% tweets about real disasters.\n"
          ],
          "name": "stdout"
        }
      ]
    },
    {
      "cell_type": "code",
      "metadata": {
        "id": "rqGZVwgdb5p8",
        "colab_type": "code",
        "outputId": "9f12feec-8d8d-42a1-9b6f-fdf95e96878e",
        "colab": {
          "base_uri": "https://localhost:8080/",
          "height": 136
        }
      },
      "source": [
        "print('Data completeness per column')\n",
        "train.count() / train_n\n"
      ],
      "execution_count": 0,
      "outputs": [
        {
          "output_type": "stream",
          "text": [
            "Data completeness per column\n"
          ],
          "name": "stdout"
        },
        {
          "output_type": "execute_result",
          "data": {
            "text/plain": [
              "id          1.000000\n",
              "keyword     0.991987\n",
              "location    0.667280\n",
              "text        1.000000\n",
              "target      1.000000\n",
              "dtype: float64"
            ]
          },
          "metadata": {
            "tags": []
          },
          "execution_count": 7
        }
      ]
    },
    {
      "cell_type": "markdown",
      "metadata": {
        "id": "Zj0qahXpeNFW",
        "colab_type": "text"
      },
      "source": [
        "## Data Exploration\n"
      ]
    },
    {
      "cell_type": "markdown",
      "metadata": {
        "id": "I9UCd_EpeSub",
        "colab_type": "text"
      },
      "source": [
        "### Do some locations have a higher proportion of disasters?"
      ]
    },
    {
      "cell_type": "code",
      "metadata": {
        "id": "kghwlQc1efHC",
        "colab_type": "code",
        "outputId": "2fa52aa7-09a1-402e-93c0-0297569caa3f",
        "colab": {
          "base_uri": "https://localhost:8080/",
          "height": 542
        }
      },
      "source": [
        "location_filter = 10\n",
        "\n",
        "location=train.groupby('location').agg(['mean','count'])['target'].reset_index()\n",
        "location=location.loc[location['count']>location_filter].sort_values(by='mean',ascending=False).head(25)\n",
        "px.bar(location,x='location',y='mean', hover_data=[\"location\",\"mean\",\"count\"])"
      ],
      "execution_count": 0,
      "outputs": [
        {
          "output_type": "display_data",
          "data": {
            "text/html": [
              "<html>\n",
              "<head><meta charset=\"utf-8\" /></head>\n",
              "<body>\n",
              "    <div>\n",
              "            <script src=\"https://cdnjs.cloudflare.com/ajax/libs/mathjax/2.7.5/MathJax.js?config=TeX-AMS-MML_SVG\"></script><script type=\"text/javascript\">if (window.MathJax) {MathJax.Hub.Config({SVG: {font: \"STIX-Web\"}});}</script>\n",
              "                <script type=\"text/javascript\">window.PlotlyConfig = {MathJaxConfig: 'local'};</script>\n",
              "        <script src=\"https://cdn.plot.ly/plotly-latest.min.js\"></script>    \n",
              "            <div id=\"e3bb8c4a-d116-45fe-8058-734c582d9272\" class=\"plotly-graph-div\" style=\"height:525px; width:100%;\"></div>\n",
              "            <script type=\"text/javascript\">\n",
              "                \n",
              "                    window.PLOTLYENV=window.PLOTLYENV || {};\n",
              "                    \n",
              "                if (document.getElementById(\"e3bb8c4a-d116-45fe-8058-734c582d9272\")) {\n",
              "                    Plotly.newPlot(\n",
              "                        'e3bb8c4a-d116-45fe-8058-734c582d9272',\n",
              "                        [{\"alignmentgroup\": \"True\", \"customdata\": [[\"Mumbai\", 0.8636363636363636, 22], [\"India\", 0.8333333333333334, 24], [\"Nigeria\", 0.7857142857142857, 28], [\"Earth\", 0.7272727272727273, 11], [\"Washington, DC\", 0.7142857142857143, 21], [\"Washington, D.C.\", 0.6923076923076923, 13], [\"USA\", 0.6442307692307693, 104], [\"San Francisco, CA\", 0.6363636363636364, 11], [\"Worldwide\", 0.631578947368421, 19], [\"Indonesia\", 0.6153846153846154, 13], [\"UK\", 0.5925925925925926, 27], [\"Toronto\", 0.5833333333333334, 12], [\"United States\", 0.54, 50], [\"Los Angeles\", 0.5384615384615384, 13], [\"California, USA\", 0.5333333333333333, 15], [\"Chicago, IL\", 0.5, 18], [\"Australia\", 0.5, 18], [\"Ireland\", 0.5, 12], [\"New York, NY\", 0.4666666666666667, 15], [\"Canada\", 0.4482758620689655, 29], [\"San Francisco\", 0.42857142857142855, 14], [\"California\", 0.4117647058823529, 17], [\"Seattle\", 0.36363636363636365, 11], [\"Chicago\", 0.36363636363636365, 11], [\"London\", 0.35555555555555557, 45]], \"hoverlabel\": {\"namelength\": 0}, \"hovertemplate\": \"location=%{customdata[0]}<br>mean=%{customdata[1]}<br>count=%{customdata[2]}\", \"legendgroup\": \"\", \"marker\": {\"color\": \"#636efa\"}, \"name\": \"\", \"offsetgroup\": \"\", \"orientation\": \"v\", \"showlegend\": false, \"textposition\": \"auto\", \"type\": \"bar\", \"x\": [\"Mumbai\", \"India\", \"Nigeria\", \"Earth\", \"Washington, DC\", \"Washington, D.C.\", \"USA\", \"San Francisco, CA\", \"Worldwide\", \"Indonesia\", \"UK\", \"Toronto\", \"United States\", \"Los Angeles\", \"California, USA\", \"Chicago, IL\", \"Australia\", \"Ireland\", \"New York, NY\", \"Canada\", \"San Francisco\", \"California\", \"Seattle\", \"Chicago\", \"London\"], \"xaxis\": \"x\", \"y\": [0.8636363636363636, 0.8333333333333334, 0.7857142857142857, 0.7272727272727273, 0.7142857142857143, 0.6923076923076923, 0.6442307692307693, 0.6363636363636364, 0.631578947368421, 0.6153846153846154, 0.5925925925925926, 0.5833333333333334, 0.54, 0.5384615384615384, 0.5333333333333333, 0.5, 0.5, 0.5, 0.4666666666666667, 0.4482758620689655, 0.42857142857142855, 0.4117647058823529, 0.36363636363636365, 0.36363636363636365, 0.35555555555555557], \"yaxis\": \"y\"}],\n",
              "                        {\"barmode\": \"relative\", \"legend\": {\"tracegroupgap\": 0}, \"margin\": {\"t\": 60}, \"template\": {\"data\": {\"bar\": [{\"error_x\": {\"color\": \"#2a3f5f\"}, \"error_y\": {\"color\": \"#2a3f5f\"}, \"marker\": {\"line\": {\"color\": \"#E5ECF6\", \"width\": 0.5}}, \"type\": \"bar\"}], \"barpolar\": [{\"marker\": {\"line\": {\"color\": \"#E5ECF6\", \"width\": 0.5}}, \"type\": \"barpolar\"}], \"carpet\": [{\"aaxis\": {\"endlinecolor\": \"#2a3f5f\", \"gridcolor\": \"white\", \"linecolor\": \"white\", \"minorgridcolor\": \"white\", \"startlinecolor\": \"#2a3f5f\"}, \"baxis\": {\"endlinecolor\": \"#2a3f5f\", \"gridcolor\": \"white\", \"linecolor\": \"white\", \"minorgridcolor\": \"white\", \"startlinecolor\": \"#2a3f5f\"}, \"type\": \"carpet\"}], \"choropleth\": [{\"colorbar\": {\"outlinewidth\": 0, \"ticks\": \"\"}, \"type\": \"choropleth\"}], \"contour\": [{\"colorbar\": {\"outlinewidth\": 0, \"ticks\": \"\"}, \"colorscale\": [[0.0, \"#0d0887\"], [0.1111111111111111, \"#46039f\"], [0.2222222222222222, \"#7201a8\"], [0.3333333333333333, \"#9c179e\"], [0.4444444444444444, \"#bd3786\"], [0.5555555555555556, \"#d8576b\"], [0.6666666666666666, \"#ed7953\"], [0.7777777777777778, \"#fb9f3a\"], [0.8888888888888888, \"#fdca26\"], [1.0, \"#f0f921\"]], \"type\": \"contour\"}], \"contourcarpet\": [{\"colorbar\": {\"outlinewidth\": 0, \"ticks\": \"\"}, \"type\": \"contourcarpet\"}], \"heatmap\": [{\"colorbar\": {\"outlinewidth\": 0, \"ticks\": \"\"}, \"colorscale\": [[0.0, \"#0d0887\"], [0.1111111111111111, \"#46039f\"], [0.2222222222222222, \"#7201a8\"], [0.3333333333333333, \"#9c179e\"], [0.4444444444444444, \"#bd3786\"], [0.5555555555555556, \"#d8576b\"], [0.6666666666666666, \"#ed7953\"], [0.7777777777777778, \"#fb9f3a\"], [0.8888888888888888, \"#fdca26\"], [1.0, \"#f0f921\"]], \"type\": \"heatmap\"}], \"heatmapgl\": [{\"colorbar\": {\"outlinewidth\": 0, \"ticks\": \"\"}, \"colorscale\": [[0.0, \"#0d0887\"], [0.1111111111111111, \"#46039f\"], [0.2222222222222222, \"#7201a8\"], [0.3333333333333333, \"#9c179e\"], [0.4444444444444444, \"#bd3786\"], [0.5555555555555556, \"#d8576b\"], [0.6666666666666666, \"#ed7953\"], [0.7777777777777778, \"#fb9f3a\"], [0.8888888888888888, \"#fdca26\"], [1.0, \"#f0f921\"]], \"type\": \"heatmapgl\"}], \"histogram\": [{\"marker\": {\"colorbar\": {\"outlinewidth\": 0, \"ticks\": \"\"}}, \"type\": \"histogram\"}], \"histogram2d\": [{\"colorbar\": {\"outlinewidth\": 0, \"ticks\": \"\"}, \"colorscale\": [[0.0, \"#0d0887\"], [0.1111111111111111, \"#46039f\"], [0.2222222222222222, \"#7201a8\"], [0.3333333333333333, \"#9c179e\"], [0.4444444444444444, \"#bd3786\"], [0.5555555555555556, \"#d8576b\"], [0.6666666666666666, \"#ed7953\"], [0.7777777777777778, \"#fb9f3a\"], [0.8888888888888888, \"#fdca26\"], [1.0, \"#f0f921\"]], \"type\": \"histogram2d\"}], \"histogram2dcontour\": [{\"colorbar\": {\"outlinewidth\": 0, \"ticks\": \"\"}, \"colorscale\": [[0.0, \"#0d0887\"], [0.1111111111111111, \"#46039f\"], [0.2222222222222222, \"#7201a8\"], [0.3333333333333333, \"#9c179e\"], [0.4444444444444444, \"#bd3786\"], [0.5555555555555556, \"#d8576b\"], [0.6666666666666666, \"#ed7953\"], [0.7777777777777778, \"#fb9f3a\"], [0.8888888888888888, \"#fdca26\"], [1.0, \"#f0f921\"]], \"type\": \"histogram2dcontour\"}], \"mesh3d\": [{\"colorbar\": {\"outlinewidth\": 0, \"ticks\": \"\"}, \"type\": \"mesh3d\"}], \"parcoords\": [{\"line\": {\"colorbar\": {\"outlinewidth\": 0, \"ticks\": \"\"}}, \"type\": \"parcoords\"}], \"pie\": [{\"automargin\": true, \"type\": \"pie\"}], \"scatter\": [{\"marker\": {\"colorbar\": {\"outlinewidth\": 0, \"ticks\": \"\"}}, \"type\": \"scatter\"}], \"scatter3d\": [{\"line\": {\"colorbar\": {\"outlinewidth\": 0, \"ticks\": \"\"}}, \"marker\": {\"colorbar\": {\"outlinewidth\": 0, \"ticks\": \"\"}}, \"type\": \"scatter3d\"}], \"scattercarpet\": [{\"marker\": {\"colorbar\": {\"outlinewidth\": 0, \"ticks\": \"\"}}, \"type\": \"scattercarpet\"}], \"scattergeo\": [{\"marker\": {\"colorbar\": {\"outlinewidth\": 0, \"ticks\": \"\"}}, \"type\": \"scattergeo\"}], \"scattergl\": [{\"marker\": {\"colorbar\": {\"outlinewidth\": 0, \"ticks\": \"\"}}, \"type\": \"scattergl\"}], \"scattermapbox\": [{\"marker\": {\"colorbar\": {\"outlinewidth\": 0, \"ticks\": \"\"}}, \"type\": \"scattermapbox\"}], \"scatterpolar\": [{\"marker\": {\"colorbar\": {\"outlinewidth\": 0, \"ticks\": \"\"}}, \"type\": \"scatterpolar\"}], \"scatterpolargl\": [{\"marker\": {\"colorbar\": {\"outlinewidth\": 0, \"ticks\": \"\"}}, \"type\": \"scatterpolargl\"}], \"scatterternary\": [{\"marker\": {\"colorbar\": {\"outlinewidth\": 0, \"ticks\": \"\"}}, \"type\": \"scatterternary\"}], \"surface\": [{\"colorbar\": {\"outlinewidth\": 0, \"ticks\": \"\"}, \"colorscale\": [[0.0, \"#0d0887\"], [0.1111111111111111, \"#46039f\"], [0.2222222222222222, \"#7201a8\"], [0.3333333333333333, \"#9c179e\"], [0.4444444444444444, \"#bd3786\"], [0.5555555555555556, \"#d8576b\"], [0.6666666666666666, \"#ed7953\"], [0.7777777777777778, \"#fb9f3a\"], [0.8888888888888888, \"#fdca26\"], [1.0, \"#f0f921\"]], \"type\": \"surface\"}], \"table\": [{\"cells\": {\"fill\": {\"color\": \"#EBF0F8\"}, \"line\": {\"color\": \"white\"}}, \"header\": {\"fill\": {\"color\": \"#C8D4E3\"}, \"line\": {\"color\": \"white\"}}, \"type\": \"table\"}]}, \"layout\": {\"annotationdefaults\": {\"arrowcolor\": \"#2a3f5f\", \"arrowhead\": 0, \"arrowwidth\": 1}, \"coloraxis\": {\"colorbar\": {\"outlinewidth\": 0, \"ticks\": \"\"}}, \"colorscale\": {\"diverging\": [[0, \"#8e0152\"], [0.1, \"#c51b7d\"], [0.2, \"#de77ae\"], [0.3, \"#f1b6da\"], [0.4, \"#fde0ef\"], [0.5, \"#f7f7f7\"], [0.6, \"#e6f5d0\"], [0.7, \"#b8e186\"], [0.8, \"#7fbc41\"], [0.9, \"#4d9221\"], [1, \"#276419\"]], \"sequential\": [[0.0, \"#0d0887\"], [0.1111111111111111, \"#46039f\"], [0.2222222222222222, \"#7201a8\"], [0.3333333333333333, \"#9c179e\"], [0.4444444444444444, \"#bd3786\"], [0.5555555555555556, \"#d8576b\"], [0.6666666666666666, \"#ed7953\"], [0.7777777777777778, \"#fb9f3a\"], [0.8888888888888888, \"#fdca26\"], [1.0, \"#f0f921\"]], \"sequentialminus\": [[0.0, \"#0d0887\"], [0.1111111111111111, \"#46039f\"], [0.2222222222222222, \"#7201a8\"], [0.3333333333333333, \"#9c179e\"], [0.4444444444444444, \"#bd3786\"], [0.5555555555555556, \"#d8576b\"], [0.6666666666666666, \"#ed7953\"], [0.7777777777777778, \"#fb9f3a\"], [0.8888888888888888, \"#fdca26\"], [1.0, \"#f0f921\"]]}, \"colorway\": [\"#636efa\", \"#EF553B\", \"#00cc96\", \"#ab63fa\", \"#FFA15A\", \"#19d3f3\", \"#FF6692\", \"#B6E880\", \"#FF97FF\", \"#FECB52\"], \"font\": {\"color\": \"#2a3f5f\"}, \"geo\": {\"bgcolor\": \"white\", \"lakecolor\": \"white\", \"landcolor\": \"#E5ECF6\", \"showlakes\": true, \"showland\": true, \"subunitcolor\": \"white\"}, \"hoverlabel\": {\"align\": \"left\"}, \"hovermode\": \"closest\", \"mapbox\": {\"style\": \"light\"}, \"paper_bgcolor\": \"white\", \"plot_bgcolor\": \"#E5ECF6\", \"polar\": {\"angularaxis\": {\"gridcolor\": \"white\", \"linecolor\": \"white\", \"ticks\": \"\"}, \"bgcolor\": \"#E5ECF6\", \"radialaxis\": {\"gridcolor\": \"white\", \"linecolor\": \"white\", \"ticks\": \"\"}}, \"scene\": {\"xaxis\": {\"backgroundcolor\": \"#E5ECF6\", \"gridcolor\": \"white\", \"gridwidth\": 2, \"linecolor\": \"white\", \"showbackground\": true, \"ticks\": \"\", \"zerolinecolor\": \"white\"}, \"yaxis\": {\"backgroundcolor\": \"#E5ECF6\", \"gridcolor\": \"white\", \"gridwidth\": 2, \"linecolor\": \"white\", \"showbackground\": true, \"ticks\": \"\", \"zerolinecolor\": \"white\"}, \"zaxis\": {\"backgroundcolor\": \"#E5ECF6\", \"gridcolor\": \"white\", \"gridwidth\": 2, \"linecolor\": \"white\", \"showbackground\": true, \"ticks\": \"\", \"zerolinecolor\": \"white\"}}, \"shapedefaults\": {\"line\": {\"color\": \"#2a3f5f\"}}, \"ternary\": {\"aaxis\": {\"gridcolor\": \"white\", \"linecolor\": \"white\", \"ticks\": \"\"}, \"baxis\": {\"gridcolor\": \"white\", \"linecolor\": \"white\", \"ticks\": \"\"}, \"bgcolor\": \"#E5ECF6\", \"caxis\": {\"gridcolor\": \"white\", \"linecolor\": \"white\", \"ticks\": \"\"}}, \"title\": {\"x\": 0.05}, \"xaxis\": {\"automargin\": true, \"gridcolor\": \"white\", \"linecolor\": \"white\", \"ticks\": \"\", \"title\": {\"standoff\": 15}, \"zerolinecolor\": \"white\", \"zerolinewidth\": 2}, \"yaxis\": {\"automargin\": true, \"gridcolor\": \"white\", \"linecolor\": \"white\", \"ticks\": \"\", \"title\": {\"standoff\": 15}, \"zerolinecolor\": \"white\", \"zerolinewidth\": 2}}}, \"xaxis\": {\"anchor\": \"y\", \"domain\": [0.0, 1.0], \"title\": {\"text\": \"location\"}}, \"yaxis\": {\"anchor\": \"x\", \"domain\": [0.0, 1.0], \"title\": {\"text\": \"mean\"}}},\n",
              "                        {\"responsive\": true}\n",
              "                    ).then(function(){\n",
              "                            \n",
              "var gd = document.getElementById('e3bb8c4a-d116-45fe-8058-734c582d9272');\n",
              "var x = new MutationObserver(function (mutations, observer) {{\n",
              "        var display = window.getComputedStyle(gd).display;\n",
              "        if (!display || display === 'none') {{\n",
              "            console.log([gd, 'removed!']);\n",
              "            Plotly.purge(gd);\n",
              "            observer.disconnect();\n",
              "        }}\n",
              "}});\n",
              "\n",
              "// Listen for the removal of the full notebook cells\n",
              "var notebookContainer = gd.closest('#notebook-container');\n",
              "if (notebookContainer) {{\n",
              "    x.observe(notebookContainer, {childList: true});\n",
              "}}\n",
              "\n",
              "// Listen for the clearing of the current output cell\n",
              "var outputEl = gd.closest('.output');\n",
              "if (outputEl) {{\n",
              "    x.observe(outputEl, {childList: true});\n",
              "}}\n",
              "\n",
              "                        })\n",
              "                };\n",
              "                \n",
              "            </script>\n",
              "        </div>\n",
              "</body>\n",
              "</html>"
            ]
          },
          "metadata": {
            "tags": []
          }
        }
      ]
    },
    {
      "cell_type": "markdown",
      "metadata": {
        "id": "NH-ZSx57lKWM",
        "colab_type": "text"
      },
      "source": [
        "**Key Word Frequency**"
      ]
    },
    {
      "cell_type": "code",
      "metadata": {
        "id": "u9wnnQcJZq4B",
        "colab_type": "code",
        "outputId": "00cf7625-f54d-43f0-90b7-89cfd6f24a62",
        "colab": {
          "base_uri": "https://localhost:8080/",
          "height": 238
        }
      },
      "source": [
        "train.keyword.nunique()\n",
        "df = train.groupby('keyword')['id'].nunique()\n",
        "print(df)"
      ],
      "execution_count": 4,
      "outputs": [
        {
          "output_type": "stream",
          "text": [
            "keyword\n",
            "ablaze                 36\n",
            "accident               35\n",
            "aftershock             34\n",
            "airplane%20accident    35\n",
            "ambulance              38\n",
            "                       ..\n",
            "wounded                37\n",
            "wounds                 33\n",
            "wreck                  37\n",
            "wreckage               39\n",
            "wrecked                39\n",
            "Name: id, Length: 221, dtype: int64\n"
          ],
          "name": "stdout"
        }
      ]
    },
    {
      "cell_type": "code",
      "metadata": {
        "id": "8w65gs_acpNc",
        "colab_type": "code",
        "colab": {
          "base_uri": "https://localhost:8080/",
          "height": 1000
        },
        "outputId": "094e99c3-6d77-471b-ee4c-ee39e2e27b14"
      },
      "source": [
        "import nltk\n",
        "freq = nltk.FreqDist(train.keyword)\n",
        "for key,val in freq.items():\n",
        "    print(str(key) + ':' + str(val))\n",
        "freq.plot(30, cumulative=False)"
      ],
      "execution_count": 5,
      "outputs": [
        {
          "output_type": "stream",
          "text": [
            "nan:61\n",
            "ablaze:36\n",
            "accident:35\n",
            "aftershock:34\n",
            "airplane%20accident:35\n",
            "ambulance:38\n",
            "annihilated:34\n",
            "annihilation:29\n",
            "apocalypse:32\n",
            "armageddon:42\n",
            "army:34\n",
            "arson:32\n",
            "arsonist:34\n",
            "attack:36\n",
            "attacked:35\n",
            "avalanche:30\n",
            "battle:26\n",
            "bioterror:37\n",
            "bioterrorism:30\n",
            "blaze:38\n",
            "blazing:34\n",
            "bleeding:35\n",
            "blew%20up:33\n",
            "blight:32\n",
            "blizzard:37\n",
            "blood:35\n",
            "bloody:35\n",
            "blown%20up:33\n",
            "body%20bag:33\n",
            "body%20bagging:33\n",
            "body%20bags:41\n",
            "bomb:34\n",
            "bombed:38\n",
            "bombing:29\n",
            "bridge%20collapse:35\n",
            "buildings%20burning:35\n",
            "buildings%20on%20fire:33\n",
            "burned:33\n",
            "burning:34\n",
            "burning%20buildings:37\n",
            "bush%20fires:25\n",
            "casualties:35\n",
            "casualty:34\n",
            "catastrophe:36\n",
            "catastrophic:30\n",
            "chemical%20emergency:33\n",
            "cliff%20fall:36\n",
            "collapse:34\n",
            "collapsed:35\n",
            "collide:34\n",
            "collided:40\n",
            "collision:39\n",
            "crash:33\n",
            "crashed:34\n",
            "crush:37\n",
            "crushed:31\n",
            "curfew:37\n",
            "cyclone:32\n",
            "damage:41\n",
            "danger:36\n",
            "dead:30\n",
            "death:36\n",
            "deaths:38\n",
            "debris:37\n",
            "deluge:42\n",
            "deluged:27\n",
            "demolish:34\n",
            "demolished:28\n",
            "demolition:35\n",
            "derail:35\n",
            "derailed:38\n",
            "derailment:39\n",
            "desolate:29\n",
            "desolation:36\n",
            "destroy:37\n",
            "destroyed:32\n",
            "destruction:34\n",
            "detonate:36\n",
            "detonation:32\n",
            "devastated:31\n",
            "devastation:36\n",
            "disaster:35\n",
            "displaced:36\n",
            "drought:35\n",
            "drown:32\n",
            "drowned:38\n",
            "drowning:34\n",
            "dust%20storm:36\n",
            "earthquake:39\n",
            "electrocute:32\n",
            "electrocuted:34\n",
            "emergency:37\n",
            "emergency%20plan:35\n",
            "emergency%20services:33\n",
            "engulfed:36\n",
            "epicentre:12\n",
            "evacuate:40\n",
            "evacuated:36\n",
            "evacuation:36\n",
            "explode:38\n",
            "exploded:33\n",
            "explosion:39\n",
            "eyewitness:32\n",
            "famine:39\n",
            "fatal:38\n",
            "fatalities:45\n",
            "fatality:37\n",
            "fear:40\n",
            "fire:38\n",
            "fire%20truck:33\n",
            "first%20responders:29\n",
            "flames:39\n",
            "flattened:34\n",
            "flood:35\n",
            "flooding:38\n",
            "floods:36\n",
            "forest%20fire:19\n",
            "forest%20fires:32\n",
            "hail:35\n",
            "hailstorm:32\n",
            "harm:41\n",
            "hazard:34\n",
            "hazardous:35\n",
            "heat%20wave:34\n",
            "hellfire:39\n",
            "hijack:33\n",
            "hijacker:35\n",
            "hijacking:32\n",
            "hostage:31\n",
            "hostages:37\n",
            "hurricane:38\n",
            "injured:35\n",
            "injuries:33\n",
            "injury:38\n",
            "inundated:35\n",
            "inundation:10\n",
            "landslide:33\n",
            "lava:34\n",
            "lightning:33\n",
            "loud%20bang:34\n",
            "mass%20murder:33\n",
            "mass%20murderer:32\n",
            "massacre:36\n",
            "mayhem:30\n",
            "meltdown:33\n",
            "military:34\n",
            "mudslide:37\n",
            "natural%20disaster:34\n",
            "nuclear%20disaster:34\n",
            "nuclear%20reactor:36\n",
            "obliterate:31\n",
            "obliterated:31\n",
            "obliteration:29\n",
            "oil%20spill:38\n",
            "outbreak:40\n",
            "pandemonium:37\n",
            "panic:37\n",
            "panicking:33\n",
            "police:37\n",
            "quarantine:34\n",
            "quarantined:37\n",
            "radiation%20emergency:9\n",
            "rainstorm:34\n",
            "razed:35\n",
            "refugees:36\n",
            "rescue:22\n",
            "rescued:35\n",
            "rescuers:35\n",
            "riot:34\n",
            "rioting:35\n",
            "rubble:28\n",
            "ruin:37\n",
            "sandstorm:37\n",
            "screamed:34\n",
            "screaming:36\n",
            "screams:35\n",
            "seismic:29\n",
            "sinkhole:39\n",
            "sinking:41\n",
            "siren:40\n",
            "sirens:29\n",
            "smoke:34\n",
            "snowstorm:29\n",
            "storm:35\n",
            "stretcher:33\n",
            "structural%20failure:35\n",
            "suicide%20bomb:35\n",
            "suicide%20bomber:31\n",
            "suicide%20bombing:33\n",
            "sunk:39\n",
            "survive:32\n",
            "survived:33\n",
            "survivors:30\n",
            "terrorism:34\n",
            "terrorist:31\n",
            "threat:11\n",
            "thunder:38\n",
            "thunderstorm:33\n",
            "tornado:35\n",
            "tragedy:36\n",
            "trapped:32\n",
            "trauma:31\n",
            "traumatised:35\n",
            "trouble:33\n",
            "tsunami:34\n",
            "twister:40\n",
            "typhoon:38\n",
            "upheaval:38\n",
            "violent%20storm:33\n",
            "volcano:27\n",
            "war%20zone:24\n",
            "weapon:39\n",
            "weapons:39\n",
            "whirlwind:39\n",
            "wild%20fires:31\n",
            "wildfire:33\n",
            "windstorm:40\n",
            "wounded:37\n",
            "wounds:33\n",
            "wreck:37\n",
            "wreckage:39\n",
            "wrecked:39\n"
          ],
          "name": "stdout"
        },
        {
          "output_type": "display_data",
          "data": {
            "image/png": "[encoded data removed]",
            "text/plain": [
              "<Figure size 432x288 with 1 Axes>"
            ]
          },
          "metadata": {
            "tags": [],
            "needs_background": "light"
          }
        }
      ]
    },
    {
      "cell_type": "code",
      "metadata": {
        "id": "TjUb07boTWrd",
        "colab_type": "code",
        "outputId": "5b6deb5e-829e-401e-9349-c4ea35bb223b",
        "colab": {
          "base_uri": "https://localhost:8080/",
          "height": 797
        }
      },
      "source": [
        "# Group by to calculate how many 0's and 1's per Keyword\n",
        "Proportion=train.groupby(['keyword','target'])['target'].count()\n",
        "# Unstack to pivot values\n",
        "Proportion=Proportion.unstack()\n",
        "# Clause to chnage NaN to 0\n",
        "Proportion[0]=Proportion[0].fillna(0)\n",
        "Proportion[1]=Proportion[1].fillna(0)\n",
        "# Add column - Total number of texts\n",
        "Proportion['TotalCount']=Proportion[0]+Proportion[1]\n",
        "\n",
        "# Add column - Percent of texts per keyword that are disasters\n",
        "Proportion['ProportionDisaster']=Proportion[1]/Proportion['TotalCount']\n",
        "print(Proportion.sort_values(by=['ProportionDisaster'])) \n",
        "# Scatter plot\n",
        "px.scatter(Proportion,x=\"TotalCount\",y=\"ProportionDisaster\")\n"
      ],
      "execution_count": 24,
      "outputs": [
        {
          "output_type": "stream",
          "text": [
            "target          0     1  TotalCount  ProportionDisaster\n",
            "keyword                                                \n",
            "aftershock   34.0   0.0        34.0            0.000000\n",
            "body%20bags  40.0   1.0        41.0            0.024390\n",
            "ruin         36.0   1.0        37.0            0.027027\n",
            "blazing      33.0   1.0        34.0            0.029412\n",
            "body%20bag   32.0   1.0        33.0            0.030303\n",
            "...           ...   ...         ...                 ...\n",
            "typhoon       1.0  37.0        38.0            0.973684\n",
            "outbreak      1.0  39.0        40.0            0.975000\n",
            "debris        0.0  37.0        37.0            1.000000\n",
            "wreckage      0.0  39.0        39.0            1.000000\n",
            "derailment    0.0  39.0        39.0            1.000000\n",
            "\n",
            "[221 rows x 4 columns]\n"
          ],
          "name": "stdout"
        },
        {
          "output_type": "display_data",
          "data": {
            "text/html": [
              "<html>\n",
              "<head><meta charset=\"utf-8\" /></head>\n",
              "<body>\n",
              "    <div>\n",
              "            <script src=\"https://cdnjs.cloudflare.com/ajax/libs/mathjax/2.7.5/MathJax.js?config=TeX-AMS-MML_SVG\"></script><script type=\"text/javascript\">if (window.MathJax) {MathJax.Hub.Config({SVG: {font: \"STIX-Web\"}});}</script>\n",
              "                <script type=\"text/javascript\">window.PlotlyConfig = {MathJaxConfig: 'local'};</script>\n",
              "        <script src=\"https://cdn.plot.ly/plotly-latest.min.js\"></script>    \n",
              "            <div id=\"285ea3b0-3ff3-49ea-8f75-04f66f1aa4fc\" class=\"plotly-graph-div\" style=\"height:525px; width:100%;\"></div>\n",
              "            <script type=\"text/javascript\">\n",
              "                \n",
              "                    window.PLOTLYENV=window.PLOTLYENV || {};\n",
              "                    \n",
              "                if (document.getElementById(\"285ea3b0-3ff3-49ea-8f75-04f66f1aa4fc\")) {\n",
              "                    Plotly.newPlot(\n",
              "                        '285ea3b0-3ff3-49ea-8f75-04f66f1aa4fc',\n",
              "                        [{\"hoverlabel\": {\"namelength\": 0}, \"hovertemplate\": \"TotalCount=%{x}<br>ProportionDisaster=%{y}\", \"legendgroup\": \"\", \"marker\": {\"color\": \"#636efa\", \"symbol\": \"circle\"}, \"mode\": \"markers\", \"name\": \"\", \"showlegend\": false, \"type\": \"scatter\", \"x\": [36.0, 35.0, 34.0, 35.0, 38.0, 34.0, 29.0, 32.0, 42.0, 34.0, 32.0, 34.0, 36.0, 35.0, 30.0, 26.0, 37.0, 30.0, 38.0, 34.0, 35.0, 33.0, 32.0, 37.0, 35.0, 35.0, 33.0, 33.0, 33.0, 41.0, 34.0, 38.0, 29.0, 35.0, 35.0, 33.0, 33.0, 34.0, 37.0, 25.0, 35.0, 34.0, 36.0, 30.0, 33.0, 36.0, 34.0, 35.0, 34.0, 40.0, 39.0, 33.0, 34.0, 37.0, 31.0, 37.0, 32.0, 41.0, 36.0, 30.0, 36.0, 38.0, 37.0, 42.0, 27.0, 34.0, 28.0, 35.0, 35.0, 38.0, 39.0, 29.0, 36.0, 37.0, 32.0, 34.0, 36.0, 32.0, 31.0, 36.0, 35.0, 36.0, 35.0, 32.0, 38.0, 34.0, 36.0, 39.0, 32.0, 34.0, 37.0, 35.0, 33.0, 36.0, 12.0, 40.0, 36.0, 36.0, 38.0, 33.0, 39.0, 32.0, 39.0, 38.0, 45.0, 37.0, 40.0, 38.0, 33.0, 29.0, 39.0, 34.0, 35.0, 38.0, 36.0, 19.0, 32.0, 35.0, 32.0, 41.0, 34.0, 35.0, 34.0, 39.0, 33.0, 35.0, 32.0, 31.0, 37.0, 38.0, 35.0, 33.0, 38.0, 35.0, 10.0, 33.0, 34.0, 33.0, 34.0, 33.0, 32.0, 36.0, 30.0, 33.0, 34.0, 37.0, 34.0, 34.0, 36.0, 31.0, 31.0, 29.0, 38.0, 40.0, 37.0, 37.0, 33.0, 37.0, 34.0, 37.0, 9.0, 34.0, 35.0, 36.0, 22.0, 35.0, 35.0, 34.0, 35.0, 28.0, 37.0, 37.0, 34.0, 36.0, 35.0, 29.0, 39.0, 41.0, 40.0, 29.0, 34.0, 29.0, 35.0, 33.0, 35.0, 35.0, 31.0, 33.0, 39.0, 32.0, 33.0, 30.0, 34.0, 31.0, 11.0, 38.0, 33.0, 35.0, 36.0, 32.0, 31.0, 35.0, 33.0, 34.0, 40.0, 38.0, 38.0, 33.0, 27.0, 24.0, 39.0, 39.0, 39.0, 31.0, 33.0, 40.0, 37.0, 33.0, 37.0, 39.0, 39.0], \"xaxis\": \"x\", \"y\": [0.3611111111111111, 0.6857142857142857, 0.0, 0.8571428571428571, 0.5263157894736842, 0.3235294117647059, 0.3448275862068966, 0.28125, 0.11904761904761904, 0.14705882352941177, 0.6875, 0.23529411764705882, 0.6944444444444444, 0.6, 0.13333333333333333, 0.19230769230769232, 0.5945945945945946, 0.7, 0.13157894736842105, 0.029411764705882353, 0.14285714285714285, 0.06060606060606061, 0.0625, 0.10810810810810811, 0.14285714285714285, 0.08571428571428572, 0.15151515151515152, 0.030303030303030304, 0.15151515151515152, 0.024390243902439025, 0.4411764705882353, 0.5, 0.9310344827586207, 0.8285714285714286, 0.6857142857142857, 0.8484848484848485, 0.21212121212121213, 0.29411764705882354, 0.5675675675675675, 0.72, 0.8, 0.4411764705882353, 0.19444444444444445, 0.6666666666666666, 0.45454545454545453, 0.2222222222222222, 0.4411764705882353, 0.37142857142857144, 0.08823529411764706, 0.575, 0.7435897435897436, 0.36363636363636365, 0.6176470588235294, 0.10810810810810811, 0.12903225806451613, 0.13513513513513514, 0.59375, 0.4634146341463415, 0.2222222222222222, 0.23333333333333334, 0.25, 0.6842105263157895, 1.0, 0.14285714285714285, 0.25925925925925924, 0.14705882352941177, 0.25, 0.2571428571428571, 0.4857142857142857, 0.6842105263157895, 1.0, 0.2413793103448276, 0.19444444444444445, 0.24324324324324326, 0.25, 0.17647058823529413, 0.2777777777777778, 0.28125, 0.5806451612903226, 0.75, 0.42857142857142855, 0.7222222222222222, 0.8, 0.09375, 0.39473684210526316, 0.2647058823529412, 0.6666666666666666, 0.7692307692307693, 0.03125, 0.38235294117647056, 0.3783783783783784, 0.6, 0.3333333333333333, 0.5277777777777778, 0.08333333333333333, 0.625, 0.8888888888888888, 0.7777777777777778, 0.07894736842105263, 0.2727272727272727, 0.5128205128205128, 0.375, 0.6666666666666666, 0.6842105263157895, 0.5777777777777777, 0.2702702702702703, 0.125, 0.2894736842105263, 0.6666666666666666, 0.41379310344827586, 0.3333333333333333, 0.14705882352941177, 0.42857142857142855, 0.6578947368421053, 0.7222222222222222, 0.7894736842105263, 0.84375, 0.5142857142857142, 0.75, 0.0975609756097561, 0.20588235294117646, 0.6285714285714286, 0.7352941176470589, 0.1794871794871795, 0.48484848484848486, 0.5428571428571428, 0.46875, 0.4838709677419355, 0.7297297297297297, 0.5263157894736842, 0.6857142857142857, 0.2727272727272727, 0.2894736842105263, 0.17142857142857143, 0.2, 0.42424242424242425, 0.14705882352941177, 0.5151515151515151, 0.20588235294117646, 0.8484848484848485, 0.59375, 0.6944444444444444, 0.1, 0.15151515151515152, 0.23529411764705882, 0.32432432432432434, 0.5294117647058824, 0.9117647058823529, 0.3888888888888889, 0.12903225806451613, 0.12903225806451613, 0.13793103448275862, 0.9736842105263158, 0.975, 0.21621621621621623, 0.08108108108108109, 0.06060606060606061, 0.5675675675675675, 0.14705882352941177, 0.3783783783783784, 0.5555555555555556, 0.5294117647058824, 0.8857142857142857, 0.6111111111111112, 0.22727272727272727, 0.4857142857142857, 0.9142857142857143, 0.17647058823529413, 0.6571428571428571, 0.35714285714285715, 0.02702702702702703, 0.7567567567567568, 0.11764705882352941, 0.05555555555555555, 0.14285714285714285, 0.4482758620689655, 0.6923076923076923, 0.1951219512195122, 0.125, 0.2413793103448276, 0.08823529411764706, 0.4482758620689655, 0.5142857142857142, 0.09090909090909091, 0.6571428571428571, 0.9142857142857143, 0.967741935483871, 0.9696969696969697, 0.23076923076923078, 0.15625, 0.30303030303030304, 0.7, 0.7058823529411765, 0.7419354838709677, 0.18181818181818182, 0.3157894736842105, 0.7878787878787878, 0.45714285714285713, 0.6111111111111112, 0.28125, 0.3548387096774194, 0.05714285714285714, 0.15151515151515152, 0.3235294117647059, 0.125, 0.9736842105263158, 0.15789473684210525, 0.7878787878787878, 0.6666666666666666, 0.2916666666666667, 0.358974358974359, 0.4358974358974359, 0.358974358974359, 0.8709677419354839, 0.8787878787878788, 0.4, 0.7027027027027027, 0.30303030303030304, 0.1891891891891892, 1.0, 0.07692307692307693], \"yaxis\": \"y\"}],\n",
              "                        {\"legend\": {\"tracegroupgap\": 0}, \"margin\": {\"t\": 60}, \"template\": {\"data\": {\"bar\": [{\"error_x\": {\"color\": \"#2a3f5f\"}, \"error_y\": {\"color\": \"#2a3f5f\"}, \"marker\": {\"line\": {\"color\": \"#E5ECF6\", \"width\": 0.5}}, \"type\": \"bar\"}], \"barpolar\": [{\"marker\": {\"line\": {\"color\": \"#E5ECF6\", \"width\": 0.5}}, \"type\": \"barpolar\"}], \"carpet\": [{\"aaxis\": {\"endlinecolor\": \"#2a3f5f\", \"gridcolor\": \"white\", \"linecolor\": \"white\", \"minorgridcolor\": \"white\", \"startlinecolor\": \"#2a3f5f\"}, \"baxis\": {\"endlinecolor\": \"#2a3f5f\", \"gridcolor\": \"white\", \"linecolor\": \"white\", \"minorgridcolor\": \"white\", \"startlinecolor\": \"#2a3f5f\"}, \"type\": \"carpet\"}], \"choropleth\": [{\"colorbar\": {\"outlinewidth\": 0, \"ticks\": \"\"}, \"type\": \"choropleth\"}], \"contour\": [{\"colorbar\": {\"outlinewidth\": 0, \"ticks\": \"\"}, \"colorscale\": [[0.0, \"#0d0887\"], [0.1111111111111111, \"#46039f\"], [0.2222222222222222, \"#7201a8\"], [0.3333333333333333, \"#9c179e\"], [0.4444444444444444, \"#bd3786\"], [0.5555555555555556, \"#d8576b\"], [0.6666666666666666, \"#ed7953\"], [0.7777777777777778, \"#fb9f3a\"], [0.8888888888888888, \"#fdca26\"], [1.0, \"#f0f921\"]], \"type\": \"contour\"}], \"contourcarpet\": [{\"colorbar\": {\"outlinewidth\": 0, \"ticks\": \"\"}, \"type\": \"contourcarpet\"}], \"heatmap\": [{\"colorbar\": {\"outlinewidth\": 0, \"ticks\": \"\"}, \"colorscale\": [[0.0, \"#0d0887\"], [0.1111111111111111, \"#46039f\"], [0.2222222222222222, \"#7201a8\"], [0.3333333333333333, \"#9c179e\"], [0.4444444444444444, \"#bd3786\"], [0.5555555555555556, \"#d8576b\"], [0.6666666666666666, \"#ed7953\"], [0.7777777777777778, \"#fb9f3a\"], [0.8888888888888888, \"#fdca26\"], [1.0, \"#f0f921\"]], \"type\": \"heatmap\"}], \"heatmapgl\": [{\"colorbar\": {\"outlinewidth\": 0, \"ticks\": \"\"}, \"colorscale\": [[0.0, \"#0d0887\"], [0.1111111111111111, \"#46039f\"], [0.2222222222222222, \"#7201a8\"], [0.3333333333333333, \"#9c179e\"], [0.4444444444444444, \"#bd3786\"], [0.5555555555555556, \"#d8576b\"], [0.6666666666666666, \"#ed7953\"], [0.7777777777777778, \"#fb9f3a\"], [0.8888888888888888, \"#fdca26\"], [1.0, \"#f0f921\"]], \"type\": \"heatmapgl\"}], \"histogram\": [{\"marker\": {\"colorbar\": {\"outlinewidth\": 0, \"ticks\": \"\"}}, \"type\": \"histogram\"}], \"histogram2d\": [{\"colorbar\": {\"outlinewidth\": 0, \"ticks\": \"\"}, \"colorscale\": [[0.0, \"#0d0887\"], [0.1111111111111111, \"#46039f\"], [0.2222222222222222, \"#7201a8\"], [0.3333333333333333, \"#9c179e\"], [0.4444444444444444, \"#bd3786\"], [0.5555555555555556, \"#d8576b\"], [0.6666666666666666, \"#ed7953\"], [0.7777777777777778, \"#fb9f3a\"], [0.8888888888888888, \"#fdca26\"], [1.0, \"#f0f921\"]], \"type\": \"histogram2d\"}], \"histogram2dcontour\": [{\"colorbar\": {\"outlinewidth\": 0, \"ticks\": \"\"}, \"colorscale\": [[0.0, \"#0d0887\"], [0.1111111111111111, \"#46039f\"], [0.2222222222222222, \"#7201a8\"], [0.3333333333333333, \"#9c179e\"], [0.4444444444444444, \"#bd3786\"], [0.5555555555555556, \"#d8576b\"], [0.6666666666666666, \"#ed7953\"], [0.7777777777777778, \"#fb9f3a\"], [0.8888888888888888, \"#fdca26\"], [1.0, \"#f0f921\"]], \"type\": \"histogram2dcontour\"}], \"mesh3d\": [{\"colorbar\": {\"outlinewidth\": 0, \"ticks\": \"\"}, \"type\": \"mesh3d\"}], \"parcoords\": [{\"line\": {\"colorbar\": {\"outlinewidth\": 0, \"ticks\": \"\"}}, \"type\": \"parcoords\"}], \"pie\": [{\"automargin\": true, \"type\": \"pie\"}], \"scatter\": [{\"marker\": {\"colorbar\": {\"outlinewidth\": 0, \"ticks\": \"\"}}, \"type\": \"scatter\"}], \"scatter3d\": [{\"line\": {\"colorbar\": {\"outlinewidth\": 0, \"ticks\": \"\"}}, \"marker\": {\"colorbar\": {\"outlinewidth\": 0, \"ticks\": \"\"}}, \"type\": \"scatter3d\"}], \"scattercarpet\": [{\"marker\": {\"colorbar\": {\"outlinewidth\": 0, \"ticks\": \"\"}}, \"type\": \"scattercarpet\"}], \"scattergeo\": [{\"marker\": {\"colorbar\": {\"outlinewidth\": 0, \"ticks\": \"\"}}, \"type\": \"scattergeo\"}], \"scattergl\": [{\"marker\": {\"colorbar\": {\"outlinewidth\": 0, \"ticks\": \"\"}}, \"type\": \"scattergl\"}], \"scattermapbox\": [{\"marker\": {\"colorbar\": {\"outlinewidth\": 0, \"ticks\": \"\"}}, \"type\": \"scattermapbox\"}], \"scatterpolar\": [{\"marker\": {\"colorbar\": {\"outlinewidth\": 0, \"ticks\": \"\"}}, \"type\": \"scatterpolar\"}], \"scatterpolargl\": [{\"marker\": {\"colorbar\": {\"outlinewidth\": 0, \"ticks\": \"\"}}, \"type\": \"scatterpolargl\"}], \"scatterternary\": [{\"marker\": {\"colorbar\": {\"outlinewidth\": 0, \"ticks\": \"\"}}, \"type\": \"scatterternary\"}], \"surface\": [{\"colorbar\": {\"outlinewidth\": 0, \"ticks\": \"\"}, \"colorscale\": [[0.0, \"#0d0887\"], [0.1111111111111111, \"#46039f\"], [0.2222222222222222, \"#7201a8\"], [0.3333333333333333, \"#9c179e\"], [0.4444444444444444, \"#bd3786\"], [0.5555555555555556, \"#d8576b\"], [0.6666666666666666, \"#ed7953\"], [0.7777777777777778, \"#fb9f3a\"], [0.8888888888888888, \"#fdca26\"], [1.0, \"#f0f921\"]], \"type\": \"surface\"}], \"table\": [{\"cells\": {\"fill\": {\"color\": \"#EBF0F8\"}, \"line\": {\"color\": \"white\"}}, \"header\": {\"fill\": {\"color\": \"#C8D4E3\"}, \"line\": {\"color\": \"white\"}}, \"type\": \"table\"}]}, \"layout\": {\"annotationdefaults\": {\"arrowcolor\": \"#2a3f5f\", \"arrowhead\": 0, \"arrowwidth\": 1}, \"coloraxis\": {\"colorbar\": {\"outlinewidth\": 0, \"ticks\": \"\"}}, \"colorscale\": {\"diverging\": [[0, \"#8e0152\"], [0.1, \"#c51b7d\"], [0.2, \"#de77ae\"], [0.3, \"#f1b6da\"], [0.4, \"#fde0ef\"], [0.5, \"#f7f7f7\"], [0.6, \"#e6f5d0\"], [0.7, \"#b8e186\"], [0.8, \"#7fbc41\"], [0.9, \"#4d9221\"], [1, \"#276419\"]], \"sequential\": [[0.0, \"#0d0887\"], [0.1111111111111111, \"#46039f\"], [0.2222222222222222, \"#7201a8\"], [0.3333333333333333, \"#9c179e\"], [0.4444444444444444, \"#bd3786\"], [0.5555555555555556, \"#d8576b\"], [0.6666666666666666, \"#ed7953\"], [0.7777777777777778, \"#fb9f3a\"], [0.8888888888888888, \"#fdca26\"], [1.0, \"#f0f921\"]], \"sequentialminus\": [[0.0, \"#0d0887\"], [0.1111111111111111, \"#46039f\"], [0.2222222222222222, \"#7201a8\"], [0.3333333333333333, \"#9c179e\"], [0.4444444444444444, \"#bd3786\"], [0.5555555555555556, \"#d8576b\"], [0.6666666666666666, \"#ed7953\"], [0.7777777777777778, \"#fb9f3a\"], [0.8888888888888888, \"#fdca26\"], [1.0, \"#f0f921\"]]}, \"colorway\": [\"#636efa\", \"#EF553B\", \"#00cc96\", \"#ab63fa\", \"#FFA15A\", \"#19d3f3\", \"#FF6692\", \"#B6E880\", \"#FF97FF\", \"#FECB52\"], \"font\": {\"color\": \"#2a3f5f\"}, \"geo\": {\"bgcolor\": \"white\", \"lakecolor\": \"white\", \"landcolor\": \"#E5ECF6\", \"showlakes\": true, \"showland\": true, \"subunitcolor\": \"white\"}, \"hoverlabel\": {\"align\": \"left\"}, \"hovermode\": \"closest\", \"mapbox\": {\"style\": \"light\"}, \"paper_bgcolor\": \"white\", \"plot_bgcolor\": \"#E5ECF6\", \"polar\": {\"angularaxis\": {\"gridcolor\": \"white\", \"linecolor\": \"white\", \"ticks\": \"\"}, \"bgcolor\": \"#E5ECF6\", \"radialaxis\": {\"gridcolor\": \"white\", \"linecolor\": \"white\", \"ticks\": \"\"}}, \"scene\": {\"xaxis\": {\"backgroundcolor\": \"#E5ECF6\", \"gridcolor\": \"white\", \"gridwidth\": 2, \"linecolor\": \"white\", \"showbackground\": true, \"ticks\": \"\", \"zerolinecolor\": \"white\"}, \"yaxis\": {\"backgroundcolor\": \"#E5ECF6\", \"gridcolor\": \"white\", \"gridwidth\": 2, \"linecolor\": \"white\", \"showbackground\": true, \"ticks\": \"\", \"zerolinecolor\": \"white\"}, \"zaxis\": {\"backgroundcolor\": \"#E5ECF6\", \"gridcolor\": \"white\", \"gridwidth\": 2, \"linecolor\": \"white\", \"showbackground\": true, \"ticks\": \"\", \"zerolinecolor\": \"white\"}}, \"shapedefaults\": {\"line\": {\"color\": \"#2a3f5f\"}}, \"ternary\": {\"aaxis\": {\"gridcolor\": \"white\", \"linecolor\": \"white\", \"ticks\": \"\"}, \"baxis\": {\"gridcolor\": \"white\", \"linecolor\": \"white\", \"ticks\": \"\"}, \"bgcolor\": \"#E5ECF6\", \"caxis\": {\"gridcolor\": \"white\", \"linecolor\": \"white\", \"ticks\": \"\"}}, \"title\": {\"x\": 0.05}, \"xaxis\": {\"automargin\": true, \"gridcolor\": \"white\", \"linecolor\": \"white\", \"ticks\": \"\", \"title\": {\"standoff\": 15}, \"zerolinecolor\": \"white\", \"zerolinewidth\": 2}, \"yaxis\": {\"automargin\": true, \"gridcolor\": \"white\", \"linecolor\": \"white\", \"ticks\": \"\", \"title\": {\"standoff\": 15}, \"zerolinecolor\": \"white\", \"zerolinewidth\": 2}}}, \"xaxis\": {\"anchor\": \"y\", \"domain\": [0.0, 1.0], \"title\": {\"text\": \"TotalCount\"}}, \"yaxis\": {\"anchor\": \"x\", \"domain\": [0.0, 1.0], \"title\": {\"text\": \"ProportionDisaster\"}}},\n",
              "                        {\"responsive\": true}\n",
              "                    ).then(function(){\n",
              "                            \n",
              "var gd = document.getElementById('285ea3b0-3ff3-49ea-8f75-04f66f1aa4fc');\n",
              "var x = new MutationObserver(function (mutations, observer) {{\n",
              "        var display = window.getComputedStyle(gd).display;\n",
              "        if (!display || display === 'none') {{\n",
              "            console.log([gd, 'removed!']);\n",
              "            Plotly.purge(gd);\n",
              "            observer.disconnect();\n",
              "        }}\n",
              "}});\n",
              "\n",
              "// Listen for the removal of the full notebook cells\n",
              "var notebookContainer = gd.closest('#notebook-container');\n",
              "if (notebookContainer) {{\n",
              "    x.observe(notebookContainer, {childList: true});\n",
              "}}\n",
              "\n",
              "// Listen for the clearing of the current output cell\n",
              "var outputEl = gd.closest('.output');\n",
              "if (outputEl) {{\n",
              "    x.observe(outputEl, {childList: true});\n",
              "}}\n",
              "\n",
              "                        })\n",
              "                };\n",
              "                \n",
              "            </script>\n",
              "        </div>\n",
              "</body>\n",
              "</html>"
            ]
          },
          "metadata": {
            "tags": []
          }
        }
      ]
    },
    {
      "cell_type": "code",
      "metadata": {
        "id": "Ih9IhQKgrteB",
        "colab_type": "code",
        "colab": {}
      },
      "source": [
        ""
      ],
      "execution_count": 0,
      "outputs": []
    },
    {
      "cell_type": "markdown",
      "metadata": {
        "id": "4Jz2LBwLhPP-",
        "colab_type": "text"
      },
      "source": [
        "# Research"
      ]
    },
    {
      "cell_type": "markdown",
      "metadata": {
        "id": "V2WgMTlxhewF",
        "colab_type": "text"
      },
      "source": [
        "## Bag of Words\n"
      ]
    },
    {
      "cell_type": "markdown",
      "metadata": {
        "id": "UtNS6FzlhYlB",
        "colab_type": "text"
      },
      "source": [
        "# Model"
      ]
    }
  ]
}